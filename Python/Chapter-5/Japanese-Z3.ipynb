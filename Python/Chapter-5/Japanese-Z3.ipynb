{
 "cells": [
  {
   "cell_type": "code",
   "execution_count": 1,
   "metadata": {},
   "outputs": [
    {
     "data": {
      "text/html": [
       "<link href='http://fonts.googleapis.com/css?family=Alegreya+Sans:100,300,400,500,700,800,900,100italic,300italic,400italic,500italic,700italic,800italic,900italic' rel='stylesheet' type='text/css'>\n",
       "<link href='http://fonts.googleapis.com/css?family=Arvo:400,700,400italic' rel='stylesheet' type='text/css'>\n",
       "<link href='http://fonts.googleapis.com/css?family=PT+Mono' rel='stylesheet' type='text/css'>\n",
       "<link href='http://fonts.googleapis.com/css?family=Shadows+Into+Light' rel='stylesheet' type='text/css'>\n",
       "<link href='http://fonts.googleapis.com/css?family=Philosopher:400,700,400italic,700italic' rel='stylesheet' type='text/css'>\n",
       "\n",
       "<style>\n",
       "\n",
       "@font-face {\n",
       "    font-family: \"Computer Modern\";\n",
       "    src: url('http://mirrors.ctan.org/fonts/cm-unicode/fonts/otf/cmunss.otf');\n",
       "}\n",
       "\n",
       ".container { width: 100% }\n",
       "\n",
       "/* Formatting for header cells */\n",
       ".text_cell_render h1 {\n",
       "    font-family: 'Philosopher', sans-serif;\n",
       "    font-weight: 400;\n",
       "    font-size: 2.2em;\n",
       "    line-height: 100%;\n",
       "    color: rgb(0, 80, 120);\n",
       "    margin-bottom: 0.1em;\n",
       "    margin-top: 0.1em;\n",
       "    display: block;\n",
       "}\t\n",
       ".text_cell_render h2 {\n",
       "    font-family: 'Philosopher', serif;\n",
       "    font-weight: 400;\n",
       "    font-size: 1.9em;\n",
       "    line-height: 100%;\n",
       "    color: rgb(200,100,0);\n",
       "    margin-bottom: 0.1em;\n",
       "    margin-top: 0.1em;\n",
       "    display: block;\n",
       "}\t\n",
       "\n",
       ".text_cell_render h3 {\n",
       "    font-family: 'Philosopher', serif;\n",
       "    margin-top:12px;\n",
       "    margin-bottom: 3px;\n",
       "    font-style: italic;\n",
       "    color: rgb(94,127,192);\n",
       "}\n",
       "\n",
       ".text_cell_render h4 {\n",
       "    font-family: 'Philosopher', serif;\n",
       "}\n",
       "\n",
       ".text_cell_render h5 {\n",
       "    font-family: 'Alegreya Sans', sans-serif;\n",
       "    font-weight: 300;\n",
       "    font-size: 16pt;\n",
       "    color: grey;\n",
       "    font-style: italic;\n",
       "    margin-bottom: .1em;\n",
       "    margin-top: 0.1em;\n",
       "    display: block;\n",
       "}\n",
       "\n",
       ".text_cell_render h6 {\n",
       "    font-family: 'PT Mono', sans-serif;\n",
       "    font-weight: 300;\n",
       "    font-size: 10pt;\n",
       "    color: grey;\n",
       "    margin-bottom: 1px;\n",
       "    margin-top: 1px;\n",
       "}\n",
       "\n",
       ".text_cell_render em {\n",
       "    font-family: 'Philosopher', sans-serif;\n",
       "    color:        blue;\n",
       "    background-color: rgb(255,220,180);\n",
       "    font-size:    110%;\n",
       "    margin-left:   2px;\n",
       "    margin-right:  2px;\n",
       "    font-weight:   100;\n",
       "}\n",
       "\n",
       ".text_cell_render b {\n",
       "    color:            rgb(255,195,195);\n",
       "    background-color: rgb(0,0,0);\n",
       "    font-size:    110%;\n",
       "    margin-left:   2px;\n",
       "    margin-right:  2px;\n",
       "    font-weight:   650;\n",
       "}\n",
       "\n",
       ".text_cell_render tt {\n",
       "    font-size:    120%;\n",
       "    margin-left:   2px;\n",
       "    margin-right:  2px;\n",
       "    font-weight:   150;\n",
       "}\n",
       "\n",
       ".Codemirror {\n",
       "    font-family: \"PT Mono\";\n",
       "    font-size: 100%;\n",
       "}\n",
       "\n",
       "</style>\n",
       "\n"
      ],
      "text/plain": [
       "<IPython.core.display.HTML object>"
      ]
     },
     "execution_count": 1,
     "metadata": {},
     "output_type": "execute_result"
    }
   ],
   "source": [
    "from IPython.display import HTML\n",
    "HTML(open('../style.css', 'r').read())"
   ]
  },
  {
   "cell_type": "markdown",
   "metadata": {},
   "source": [
    "# Japanese IQ Test\n",
    "\n",
    "The following puzzle is part of a recruitment test in Japan.\n",
    "\n",
    "---\n",
    "\n",
    "A policeman, a convict, a father and his two sons Anton and Bruno, and a mother with her two daughters Cindy and Doris have to cross a river.  On the boat there is only room for two passengers.\n",
    "\n",
    "During the crossing, the following conditions have to be observed:\n",
    "* The father is not allowed to be on a shore with one of the daughters \n",
    "  if the mother is on the other shore. \n",
    "* The mother is not allowed to be on a shore with one of the sons \n",
    "  if the father is on the other shore.\n",
    "* If the criminal is not alone, then the policeman must watch him.\n",
    "\n",
    "  However the convict can be alone on a shore, as his shackles prevent him from running away. \n",
    "* Only the father, the mother, and the policeman are able to steer the boat.\n",
    "\n",
    "Here is the link to try it yourself:\n",
    "https://flashmuseum.org/iq-%E9%81%8E%E6%B2%B3%E9%81%8A%E6%88%B2/"
   ]
  },
  {
   "cell_type": "markdown",
   "metadata": {},
   "source": [
    "We are going to formulate this problem as a *symbolic transition problem*.\n",
    "Then, we can solve the problem using our constraint solver."
   ]
  },
  {
   "cell_type": "code",
   "execution_count": 2,
   "metadata": {},
   "outputs": [],
   "source": [
    "import z3"
   ]
  },
  {
   "cell_type": "markdown",
   "metadata": {},
   "source": [
    "We will use the following variables to encode the problem:\n",
    "* `P` equals `1` if the policeman is on the western shore,\n",
    "* `V` equals `1` if the villain is on the western shore,\n",
    "* `M` equals `1` if the mother is on the western shore,\n",
    "* `F` equals `1` if the father is on the western shore,\n",
    "* `B` is the number of boys on the western shore,\n",
    "* `G` is the number of girls on the western shore."
   ]
  },
  {
   "cell_type": "code",
   "execution_count": 3,
   "metadata": {},
   "outputs": [],
   "source": [
    "P  = z3.Int('P')\n",
    "V  = z3.Int('V')\n",
    "M  = z3.Int('M')\n",
    "F  = z3.Int('F')\n",
    "B  = z3.Int('B')\n",
    "G  = z3.Int('G')\n",
    "PX = z3.Int('PX')\n",
    "VX = z3.Int('VX')\n",
    "MX = z3.Int('MX')\n",
    "FX = z3.Int('FX')\n",
    "BX = z3.Int('BX')\n",
    "GX = z3.Int('GX')"
   ]
  },
  {
   "cell_type": "code",
   "execution_count": 4,
   "metadata": {},
   "outputs": [],
   "source": [
    "def start(P, V, M, F, B, G):\n",
    "    return P == 1, V == 1, M == 1, F == 1, B == 2, G == 2"
   ]
  },
  {
   "cell_type": "code",
   "execution_count": 5,
   "metadata": {},
   "outputs": [
    {
     "data": {
      "text/plain": [
       "(P == 1, V == 1, M == 1, F == 1, B == 2, G == 2)"
      ]
     },
     "execution_count": 5,
     "metadata": {},
     "output_type": "execute_result"
    }
   ],
   "source": [
    "start(P, V, M, F, B, G)"
   ]
  },
  {
   "cell_type": "code",
   "execution_count": 6,
   "metadata": {},
   "outputs": [],
   "source": [
    "def goal(P, V, M, F, B, G):\n",
    "    return P == 0, V == 0, M == 0, F == 0, B == 0, G == 0"
   ]
  },
  {
   "cell_type": "code",
   "execution_count": 7,
   "metadata": {},
   "outputs": [
    {
     "data": {
      "text/plain": [
       "(P == 0, V == 0, M == 0, F == 0, B == 0, G == 0)"
      ]
     },
     "execution_count": 7,
     "metadata": {},
     "output_type": "execute_result"
    }
   ],
   "source": [
    "goal(P, V, M, F, B, G)"
   ]
  },
  {
   "cell_type": "markdown",
   "metadata": {},
   "source": [
    "Define the condition that has to be true in every state:\n",
    "* The policeman has to watch the villain (unless the villain is alone)\n",
    "* The boys  must not be alone with the mother.\n",
    "* The girls must not be alone with the father."
   ]
  },
  {
   "cell_type": "code",
   "execution_count": 8,
   "metadata": {},
   "outputs": [],
   "source": [
    "def invariant(P, V, M, F, B, G):\n",
    "    # Policeman must watch villain unless villain is alone\n",
    "    watch_condition = z3.Implies(V == P, z3.Or(P == 1, P == 0, V == 1, V == 0))\n",
    "    # Boys must not be alone with mother\n",
    "    boys_with_mother = z3.Implies(z3.And(M == F, B > 0), P == F)\n",
    "    # Girls must not be alone with father\n",
    "    girls_with_father = z3.Implies(z3.And(F == M, G > 0), P == M)\n",
    "    return watch_condition, boys_with_mother, girls_with_father"
   ]
  },
  {
   "cell_type": "code",
   "execution_count": 9,
   "metadata": {},
   "outputs": [
    {
     "data": {
      "text/plain": [
       "(Implies(V == P, Or(P == 1, P == 0, V == 1, V == 0)),\n",
       " Implies(And(M == F, B > 0), P == F),\n",
       " Implies(And(F == M, G > 0), P == M))"
      ]
     },
     "execution_count": 9,
     "metadata": {},
     "output_type": "execute_result"
    }
   ],
   "source": [
    "invariant(P, V, M, F, B, G)"
   ]
  },
  {
   "cell_type": "markdown",
   "metadata": {},
   "source": [
    "The function `BoatOK(P𝛼, V𝛼, M𝛼, F𝛼, B𝛼, G𝛼, P𝛽, V𝛽, M𝛽, F𝛽, B𝛽, G𝛽)` returns a formula that \n",
    "describes a crossing of the boat from the left shore to the right shore.  \n",
    "\n",
    "It takes the following parameters:\n",
    "* `P𝛼` is the number of police men on the left shore before the croosing,\n",
    "* `V𝛼` is the number of villains   on the left shore before the croosing,\n",
    "* `M𝛼` is the number of mothers    on the left shore before the croosing,\n",
    "* `F𝛼` is the number of fathers    on the left shore before the croosing,\n",
    "* `B𝛼` is the number of boys       on the left shore before the croosing,\n",
    "* `G𝛼` is the number of girls      on the left shore before the croosing,\n",
    "* `P𝛽` is the number of police men on the left shore after  the croosing,\n",
    "* `V𝛽` is the number of villains   on the left shore after  the croosing,\n",
    "* `M𝛽` is the number of mothers    on the left shore after  the croosing,\n",
    "* `F𝛽` is the number of fathers    on the left shore after  the croosing,\n",
    "* `B𝛽` is the number of boys       on the left shore after  the croosing,\n",
    "* `G𝛽` is the number of girls      on the left shore after  the croosing.\n",
    "\n",
    "The formula has to ensure that:\n",
    "* The people move from the left shore to the right shore,\n",
    "* only the policeman, the father, or the mother can steer the boat,\n",
    "* there can be at most two persons on the boat."
   ]
  },
  {
   "cell_type": "code",
   "execution_count": 10,
   "metadata": {},
   "outputs": [],
   "source": [
    "def boatOK(P𝛼, V𝛼, M𝛼, F𝛼, B𝛼, G𝛼, P𝛽, V𝛽, M𝛽, F𝛽, B𝛽, G𝛽):\n",
    "    # People move from left to right\n",
    "    move_left_to_right = z3.And(\n",
    "        Pβ == z3.If(z3.And(Pα > 0, Pβ < Pα), Pα - 1, Pα),\n",
    "        Vβ == z3.If(z3.And(Vα > 0, Vβ < Vα), Vα - 1, Vα),\n",
    "        Mβ == z3.If(z3.And(Mα > 0, Mβ < Mα), Mα - 1, Mα),\n",
    "        Fβ == z3.If(z3.And(Fα > 0, Fβ < Fα), Fα - 1, Fα),\n",
    "        Bβ == z3.If(z3.And(Bα > 0, Bβ < Bα), Bα - 1, Bα),\n",
    "        Gβ == z3.If(z3.And(Gα > 0, Gβ < Gα), Gα - 1, Gα)\n",
    "    )\n",
    "    # Only policeman, father, or mother can steer\n",
    "    steer_condition = z3.Or(Pα == Pβ, Fα == Fβ, Mα == Mβ)\n",
    "    # At most two persons on the boat\n",
    "    passengers = 2 - (z3.If(Pα > Pβ, 1, 0)) - (z3.If(Vα > Vβ, 1, 0)) - (z3.If(Mα > Mβ, 1, 0)) - \\\n",
    "                 (z3.If(Fα > Fβ, 1, 0)) - (z3.If(Bα > Bβ, 1, 0)) - (z3.If(Gα > Gβ, 1, 0))\n",
    "    boat_capacity = z3.And(passengers >= 0, passengers <= 2)\n",
    "    return move_left_to_right, steer_condition, boat_capacity"
   ]
  },
  {
   "cell_type": "code",
   "execution_count": 11,
   "metadata": {},
   "outputs": [
    {
     "data": {
      "text/plain": [
       "(And(PX == If(And(P > 0, PX < P), P - 1, P),\n",
       "     VX == If(And(V > 0, VX < V), V - 1, V),\n",
       "     MX == If(And(M > 0, MX < M), M - 1, M),\n",
       "     FX == If(And(F > 0, FX < F), F - 1, F),\n",
       "     BX == If(And(B > 0, BX < B), B - 1, B),\n",
       "     GX == If(And(G > 0, GX < G), G - 1, G)),\n",
       " Or(P == PX, F == FX, M == MX),\n",
       " And(2 -\n",
       "     If(P > PX, 1, 0) -\n",
       "     If(V > VX, 1, 0) -\n",
       "     If(M > MX, 1, 0) -\n",
       "     If(F > FX, 1, 0) -\n",
       "     If(B > BX, 1, 0) -\n",
       "     If(G > GX, 1, 0) >=\n",
       "     0,\n",
       "     2 -\n",
       "     If(P > PX, 1, 0) -\n",
       "     If(V > VX, 1, 0) -\n",
       "     If(M > MX, 1, 0) -\n",
       "     If(F > FX, 1, 0) -\n",
       "     If(B > BX, 1, 0) -\n",
       "     If(G > GX, 1, 0) <=\n",
       "     2))"
      ]
     },
     "execution_count": 11,
     "metadata": {},
     "output_type": "execute_result"
    }
   ],
   "source": [
    "boatOK(P, V, M, F, B, G, PX, VX, MX, FX, BX, GX)"
   ]
  },
  {
   "cell_type": "markdown",
   "metadata": {},
   "source": [
    "The function `transition(P𝛼, V𝛼, M𝛼, F𝛼, B𝛼, G𝛼, P𝛽, V𝛽, M𝛽, F𝛽, B𝛽, G𝛽, i)` returns a formula\n",
    "describing the $i^{\\mathrm{th}}$ crossing of the river, where $i$ starts counting from $0$.\n",
    "The last parameter `i` of the function `transistion` specifies the number of the crossing.\n",
    "\n",
    "You should use of the function `boatOK`."
   ]
  },
  {
   "cell_type": "code",
   "execution_count": 12,
   "metadata": {},
   "outputs": [],
   "source": [
    "def transition(Pα, Vα, Mα, Fα, Bα, Gα, Pβ, Vβ, Mβ, Fβ, Bβ, Gβ, i):\n",
    "    if i % 2 == 0:\n",
    "        return boatOK(Pα, Vα, Mα, Fα, Bα, Gα, Pβ, Vβ, Mβ, Fβ, Bβ, Gβ)\n",
    "    else:\n",
    "        return boatOK(Pβ, Vβ, Mβ, Fβ, Bβ, Gβ, Pα, Vα, Mα, Fα, Bα, Gα)"
   ]
  },
  {
   "cell_type": "code",
   "execution_count": 13,
   "metadata": {},
   "outputs": [
    {
     "data": {
      "text/plain": [
       "(And(PX == If(And(P > 0, PX < P), P - 1, P),\n",
       "     VX == If(And(V > 0, VX < V), V - 1, V),\n",
       "     MX == If(And(M > 0, MX < M), M - 1, M),\n",
       "     FX == If(And(F > 0, FX < F), F - 1, F),\n",
       "     BX == If(And(B > 0, BX < B), B - 1, B),\n",
       "     GX == If(And(G > 0, GX < G), G - 1, G)),\n",
       " Or(P == PX, F == FX, M == MX),\n",
       " And(2 -\n",
       "     If(P > PX, 1, 0) -\n",
       "     If(V > VX, 1, 0) -\n",
       "     If(M > MX, 1, 0) -\n",
       "     If(F > FX, 1, 0) -\n",
       "     If(B > BX, 1, 0) -\n",
       "     If(G > GX, 1, 0) >=\n",
       "     0,\n",
       "     2 -\n",
       "     If(P > PX, 1, 0) -\n",
       "     If(V > VX, 1, 0) -\n",
       "     If(M > MX, 1, 0) -\n",
       "     If(F > FX, 1, 0) -\n",
       "     If(B > BX, 1, 0) -\n",
       "     If(G > GX, 1, 0) <=\n",
       "     2))"
      ]
     },
     "execution_count": 13,
     "metadata": {},
     "output_type": "execute_result"
    }
   ],
   "source": [
    "transition(P, V, M, F, B, G, PX, VX, MX, FX, BX, GX, 0)"
   ]
  },
  {
   "cell_type": "code",
   "execution_count": 14,
   "metadata": {},
   "outputs": [
    {
     "data": {
      "text/plain": [
       "(And(PX == If(And(P > 0, PX < P), P - 1, P),\n",
       "     VX == If(And(V > 0, VX < V), V - 1, V),\n",
       "     MX == If(And(M > 0, MX < M), M - 1, M),\n",
       "     FX == If(And(F > 0, FX < F), F - 1, F),\n",
       "     BX == If(And(B > 0, BX < B), B - 1, B),\n",
       "     GX == If(And(G > 0, GX < G), G - 1, G)),\n",
       " Or(P == PX, F == FX, M == MX),\n",
       " And(2 -\n",
       "     If(P > PX, 1, 0) -\n",
       "     If(V > VX, 1, 0) -\n",
       "     If(M > MX, 1, 0) -\n",
       "     If(F > FX, 1, 0) -\n",
       "     If(B > BX, 1, 0) -\n",
       "     If(G > GX, 1, 0) >=\n",
       "     0,\n",
       "     2 -\n",
       "     If(P > PX, 1, 0) -\n",
       "     If(V > VX, 1, 0) -\n",
       "     If(M > MX, 1, 0) -\n",
       "     If(F > FX, 1, 0) -\n",
       "     If(B > BX, 1, 0) -\n",
       "     If(G > GX, 1, 0) <=\n",
       "     2))"
      ]
     },
     "execution_count": 14,
     "metadata": {},
     "output_type": "execute_result"
    }
   ],
   "source": [
    "transition(PX, VX, MX, FX, BX, GX, P, V, M, F, B, G, 1)"
   ]
  },
  {
   "cell_type": "code",
   "execution_count": 15,
   "metadata": {},
   "outputs": [],
   "source": [
    "def japanese_CSP(n):\n",
    "    S = z3.Solver()\n",
    "    # Define all variables\n",
    "    P = [z3.Int(f\"P[{i}]\") for i in range(n+1)]\n",
    "    V = [z3.Int(f\"V[{i}]\") for i in range(n+1)]\n",
    "    M = [z3.Int(f\"M[{i}]\") for i in range(n+1)]\n",
    "    F = [z3.Int(f\"F[{i}]\") for i in range(n+1)]\n",
    "    B = [z3.Int(f\"B[{i}]\") for i in range(n+1)]\n",
    "    G = [z3.Int(f\"G[{i}]\") for i in range(n+1)]\n",
    "    \n",
    "    # Define the invariants\n",
    "    for i in range(n+1):\n",
    "        S.add(invariant(P[i], V[i], M[i], F[i], B[i], G[i]))\n",
    "    \n",
    "    # Define the transitions\n",
    "    for i in range(n):\n",
    "        S.add(transition(P[i], V[i], M[i], F[i], B[i], G[i],\n",
    "                        P[i+1], V[i+1], M[i+1], F[i+1], B[i+1], G[i+1], i))\n",
    "    \n",
    "    # Restrict the values of the variables\n",
    "    for i in range(n+1):\n",
    "        S.add(z3.And(P[i] >= 0, P[i] <= 1))\n",
    "        S.add(z3.And(V[i] >= 0, V[i] <= 1))\n",
    "        S.add(z3.And(M[i] >= 0, M[i] <= 1))\n",
    "        S.add(z3.And(F[i] >= 0, F[i] <= 1))\n",
    "        S.add(z3.And(B[i] >= 0, B[i] <= 2))\n",
    "        S.add(z3.And(G[i] >= 0, G[i] <= 2))\n",
    "    \n",
    "    # Add start and goal constraints\n",
    "    S.add(start(P[0], V[0], M[0], F[0], B[0], G[0]))\n",
    "    S.add(goal(P[n], V[n], M[n], F[n], B[n], G[n]))\n",
    "    \n",
    "    result = str(S.check())\n",
    "    if result == 'sat':\n",
    "        Model = S.model()\n",
    "        # Construct a single dictionary for the solution\n",
    "        Solution = {}\n",
    "        for i in range(n+1):\n",
    "            Solution[f\"P[{i}]\"] = Model[P[i]].as_long()\n",
    "            Solution[f\"V[{i}]\"] = Model[V[i]].as_long()\n",
    "            Solution[f\"M[{i}]\"] = Model[M[i]].as_long()\n",
    "            Solution[f\"F[{i}]\"] = Model[F[i]].as_long()\n",
    "            Solution[f\"B[{i}]\"] = Model[B[i]].as_long()\n",
    "            Solution[f\"G[{i}]\"] = Model[G[i]].as_long()\n",
    "        return Solution\n",
    "    else:\n",
    "        return None"
   ]
  },
  {
   "cell_type": "code",
   "execution_count": 16,
   "metadata": {},
   "outputs": [],
   "source": [
    "def find_solution():\n",
    "    n = 1\n",
    "    while True:\n",
    "        print(n)\n",
    "        Solution = japanese_CSP(n)\n",
    "        if Solution is not None:\n",
    "            return n, Solution\n",
    "        n += 2"
   ]
  },
  {
   "cell_type": "code",
   "execution_count": 17,
   "metadata": {},
   "outputs": [
    {
     "name": "stdout",
     "output_type": "stream",
     "text": [
      "1\n",
      "3\n",
      "5\n",
      "7\n",
      "CPU times: total: 125 ms\n",
      "Wall time: 136 ms\n"
     ]
    },
    {
     "data": {
      "text/plain": [
       "(7,\n",
       " {'P[0]': 1,\n",
       "  'V[0]': 1,\n",
       "  'M[0]': 1,\n",
       "  'F[0]': 1,\n",
       "  'B[0]': 2,\n",
       "  'G[0]': 2,\n",
       "  'P[1]': 1,\n",
       "  'V[1]': 1,\n",
       "  'M[1]': 0,\n",
       "  'F[1]': 1,\n",
       "  'B[1]': 1,\n",
       "  'G[1]': 2,\n",
       "  'P[2]': 1,\n",
       "  'V[2]': 1,\n",
       "  'M[2]': 0,\n",
       "  'F[2]': 1,\n",
       "  'B[2]': 1,\n",
       "  'G[2]': 2,\n",
       "  'P[3]': 0,\n",
       "  'V[3]': 1,\n",
       "  'M[3]': 0,\n",
       "  'F[3]': 1,\n",
       "  'B[3]': 1,\n",
       "  'G[3]': 1,\n",
       "  'P[4]': 0,\n",
       "  'V[4]': 1,\n",
       "  'M[4]': 0,\n",
       "  'F[4]': 1,\n",
       "  'B[4]': 1,\n",
       "  'G[4]': 1,\n",
       "  'P[5]': 0,\n",
       "  'V[5]': 0,\n",
       "  'M[5]': 0,\n",
       "  'F[5]': 0,\n",
       "  'B[5]': 1,\n",
       "  'G[5]': 1,\n",
       "  'P[6]': 0,\n",
       "  'V[6]': 0,\n",
       "  'M[6]': 0,\n",
       "  'F[6]': 0,\n",
       "  'B[6]': 1,\n",
       "  'G[6]': 1,\n",
       "  'P[7]': 0,\n",
       "  'V[7]': 0,\n",
       "  'M[7]': 0,\n",
       "  'F[7]': 0,\n",
       "  'B[7]': 0,\n",
       "  'G[7]': 0})"
      ]
     },
     "execution_count": 17,
     "metadata": {},
     "output_type": "execute_result"
    }
   ],
   "source": [
    "%%time\n",
    "n, Solution = find_solution()\n",
    "n, Solution"
   ]
  },
  {
   "cell_type": "markdown",
   "metadata": {},
   "source": [
    "## Auxiliary Code for Pretty Printing"
   ]
  },
  {
   "cell_type": "markdown",
   "metadata": {},
   "source": [
    "The following code is used for printing the path that has been found.  We won't discuss the details of these functions."
   ]
  },
  {
   "cell_type": "code",
   "execution_count": 18,
   "metadata": {},
   "outputs": [],
   "source": [
    "def show_solution(Solution, n):\n",
    "    for i in range(n+1):\n",
    "        P = Solution[f\"P[{i}]\"]\n",
    "        V = Solution[f\"V[{i}]\"]\n",
    "        M = Solution[f\"M[{i}]\"]\n",
    "        F = Solution[f\"F[{i}]\"]\n",
    "        B = Solution[f\"B[{i}]\"]\n",
    "        G = Solution[f\"G[{i}]\"]\n",
    "        print(f\"🕒{i}🕒 (+P)🕴️{P} (+V)👺{V} (+M)👩‍🦰{M} (+F)👨‍🦰{F} (+B)👦{B} (+G)👧{G}\")"
   ]
  },
  {
   "cell_type": "code",
   "execution_count": 19,
   "metadata": {},
   "outputs": [
    {
     "name": "stdout",
     "output_type": "stream",
     "text": [
      "🕒0🕒 (+P)🕴️1 (+V)👺1 (+M)👩‍🦰1 (+F)👨‍🦰1 (+B)👦2 (+G)👧2\n",
      "🕒1🕒 (+P)🕴️1 (+V)👺1 (+M)👩‍🦰0 (+F)👨‍🦰1 (+B)👦1 (+G)👧2\n",
      "🕒2🕒 (+P)🕴️1 (+V)👺1 (+M)👩‍🦰0 (+F)👨‍🦰1 (+B)👦1 (+G)👧2\n",
      "🕒3🕒 (+P)🕴️0 (+V)👺1 (+M)👩‍🦰0 (+F)👨‍🦰1 (+B)👦1 (+G)👧1\n",
      "🕒4🕒 (+P)🕴️0 (+V)👺1 (+M)👩‍🦰0 (+F)👨‍🦰1 (+B)👦1 (+G)👧1\n",
      "🕒5🕒 (+P)🕴️0 (+V)👺0 (+M)👩‍🦰0 (+F)👨‍🦰0 (+B)👦1 (+G)👧1\n",
      "🕒6🕒 (+P)🕴️0 (+V)👺0 (+M)👩‍🦰0 (+F)👨‍🦰0 (+B)👦1 (+G)👧1\n",
      "🕒7🕒 (+P)🕴️0 (+V)👺0 (+M)👩‍🦰0 (+F)👨‍🦰0 (+B)👦0 (+G)👧0\n"
     ]
    }
   ],
   "source": [
    "show_solution(Solution, n)"
   ]
  },
  {
   "cell_type": "code",
   "execution_count": null,
   "metadata": {},
   "outputs": [],
   "source": []
  }
 ],
 "metadata": {
  "kernelspec": {
   "display_name": "Python [conda env:base] *",
   "language": "python",
   "name": "conda-base-py"
  },
  "language_info": {
   "codemirror_mode": {
    "name": "ipython",
    "version": 3
   },
   "file_extension": ".py",
   "mimetype": "text/x-python",
   "name": "python",
   "nbconvert_exporter": "python",
   "pygments_lexer": "ipython3",
   "version": "3.12.7"
  },
  "toc": {
   "base_numbering": 1,
   "nav_menu": {},
   "number_sections": true,
   "sideBar": true,
   "skip_h1_title": false,
   "title_cell": "Table of Contents",
   "title_sidebar": "Contents",
   "toc_cell": false,
   "toc_position": {},
   "toc_section_display": true,
   "toc_window_display": false
  },
  "varInspector": {
   "cols": {
    "lenName": 16,
    "lenType": 16,
    "lenVar": 40
   },
   "kernels_config": {
    "python": {
     "delete_cmd_postfix": "",
     "delete_cmd_prefix": "del ",
     "library": "var_list.py",
     "varRefreshCmd": "print(var_dic_list())"
    },
    "r": {
     "delete_cmd_postfix": ") ",
     "delete_cmd_prefix": "rm(",
     "library": "var_list.r",
     "varRefreshCmd": "cat(var_dic_list()) "
    }
   },
   "types_to_exclude": [
    "module",
    "function",
    "builtin_function_or_method",
    "instance",
    "_Feature"
   ],
   "window_display": false
  }
 },
 "nbformat": 4,
 "nbformat_minor": 4
}
